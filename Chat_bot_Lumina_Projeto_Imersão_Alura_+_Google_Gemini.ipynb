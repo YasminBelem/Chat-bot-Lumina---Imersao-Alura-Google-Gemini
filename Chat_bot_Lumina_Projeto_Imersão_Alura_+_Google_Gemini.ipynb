{
  "nbformat": 4,
  "nbformat_minor": 0,
  "metadata": {
    "colab": {
      "provenance": [],
      "include_colab_link": true
    },
    "kernelspec": {
      "name": "python3",
      "display_name": "Python 3"
    },
    "language_info": {
      "name": "python"
    }
  },
  "cells": [
    {
      "cell_type": "markdown",
      "metadata": {
        "id": "view-in-github",
        "colab_type": "text"
      },
      "source": [
        "<a href=\"https://colab.research.google.com/github/YasminBelem/Chat-bot-Lumina---Imersao-Alura-Google-Gemini/blob/main/Chat_bot_Lumina_Projeto_Imers%C3%A3o_Alura_%2B_Google_Gemini.ipynb\" target=\"_parent\"><img src=\"https://colab.research.google.com/assets/colab-badge.svg\" alt=\"Open In Colab\"/></a>"
      ]
    },
    {
      "cell_type": "code",
      "source": [
        "%pip -q install google-genai"
      ],
      "metadata": {
        "id": "UCCbECexLk_h"
      },
      "execution_count": null,
      "outputs": []
    },
    {
      "cell_type": "code",
      "source": [
        "# Configuração da API Key do Google Gemini\n",
        "\n",
        "import os\n",
        "from google.colab import userdata\n",
        "\n",
        "os.environ[\"GOOGLE_API_KEY\"] = userdata.get('GOOGLE_API_KEY')"
      ],
      "metadata": {
        "id": "NfCqHo1tLk8P"
      },
      "execution_count": null,
      "outputs": []
    },
    {
      "cell_type": "code",
      "source": [
        "# Configuração do cliente da SDK do Gemini\n",
        "\n",
        "from google import genai\n",
        "\n",
        "client = genai.Client()\n",
        "\n",
        "MODEL_ID = \"gemini-2.0-flash\""
      ],
      "metadata": {
        "id": "bV4w0H5TLk5g"
      },
      "execution_count": null,
      "outputs": []
    },
    {
      "cell_type": "code",
      "source": [
        "# Instalação Framework de agentes do Google ################################################\n",
        "!pip install -q google-adk"
      ],
      "metadata": {
        "id": "a1eRPalxEnj7"
      },
      "execution_count": 53,
      "outputs": []
    },
    {
      "cell_type": "code",
      "execution_count": null,
      "metadata": {
        "id": "aePV2bdfDeoW"
      },
      "outputs": [],
      "source": [
        "from google.adk.agents import Agent\n",
        "from google.adk.runners import Runner\n",
        "from google.adk.sessions import InMemorySessionService\n",
        "from google.adk.tools import google_search\n",
        "from google.genai import types  # Para criar conteúdos (Content e Part)\n",
        "from datetime import date\n",
        "import textwrap # Para formatar melhor a saída de texto\n",
        "from IPython.display import display, Markdown # Para exibir texto formatado no Colab\n",
        "import requests # Para fazer requisições HTTP\n",
        "import warnings\n",
        "\n",
        "warnings.filterwarnings(\"ignore\")"
      ]
    },
    {
      "cell_type": "code",
      "source": [
        "# Função auxiliar que envia uma mensagem para um agente via Runner e retorna a resposta final\n",
        "def call_agent(agent: Agent, message_text: str) -> str:\n",
        "    # Cria um serviço de sessão em memória\n",
        "    session_service = InMemorySessionService()\n",
        "    # Cria uma nova sessão (você pode personalizar os IDs conforme necessário)\n",
        "    session = session_service.create_session(app_name=agent.name, user_id=\"user1\", session_id=\"session1\")\n",
        "    # Cria um Runner para o agente\n",
        "    runner = Runner(agent=agent, app_name=agent.name, session_service=session_service)\n",
        "    # Cria o conteúdo da mensagem de entrada\n",
        "    content = types.Content(role=\"user\", parts=[types.Part(text=message_text)])\n",
        "\n",
        "    final_response = \"\"\n",
        "    # Itera assincronamente pelos eventos retornados durante a execução do agente\n",
        "    for event in runner.run(user_id=\"user1\", session_id=\"session1\", new_message=content):\n",
        "        if event.is_final_response():\n",
        "          for part in event.content.parts:\n",
        "            if part.text is not None:\n",
        "              final_response += part.text\n",
        "              final_response += \"\\n\"\n",
        "    return final_response"
      ],
      "metadata": {
        "id": "_xP4lWhsS5ko"
      },
      "execution_count": null,
      "outputs": []
    },
    {
      "cell_type": "code",
      "source": [
        "# Função auxiliar para exibir texto formatado em Markdown no Colab\n",
        "def to_markdown(text):\n",
        "  text = text.replace('•', '  *')\n",
        "  return Markdown(textwrap.indent(text, '> ', predicate=lambda _: True))"
      ],
      "metadata": {
        "id": "8dosiodaxfFR"
      },
      "execution_count": null,
      "outputs": []
    },
    {
      "cell_type": "code",
      "source": [
        "##########################################\n",
        "# --- Agente 1: Buscador de Artigos --- #\n",
        "##########################################\n",
        "def agente_buscador(topico, data_de_hoje):\n",
        "\n",
        "    buscador = Agent(\n",
        "        name=\"agente_buscador\",\n",
        "        model=\"gemini-2.5-pro-preview-03-25\",\n",
        "\n",
        "        instruction=\"\"\"\n",
        "        Você é um buscador especializado em artigos científicos acadêmicos. Sua tarefa é realizar uma busca abrangente utilizando a ferramenta 'google_search' em bases de dados oficiais e confiáveis,\n",
        "        como SciELO (Scientific Electronic Library Online), LILACS (Literatura Latino-Americana e do Caribe em Ciências da Saúde), PubMed (para artigos da área da saúde), Web of Science, Scopus,\n",
        "        e outras relevantes para pesquisa científica.\n",
        "        O usuário fornecerá um tópico de pesquisa. Sua busca deve retornar pelo menos 8 artigos científicos que atendam aos seguintes critérios:\n",
        "          1. Relevância Científica: Os artigos devem ser resultados de pesquisa científica original, revisões sistemáticas, ou meta-análises que abordem diretamente o tópico fornecido pelo usuário ou\n",
        "          apresentem informações cientificamente relevantes para a compreensão do tema.\n",
        "          2. Data de Publicação Recente: Os artigos devem ter sido publicados nos últimos 10 anos, considerando a data atual de busca. Artigos publicados antes dessa data não devem ser considerados,\n",
        "          a menos que sejam reconhecidamente seminais e metodologicamente cruciais para o entendimento do tópico (nesse caso, justifique brevemente sua inclusão com foco em seu impacto científico).\n",
        "          3. Fonte Científica Confiável: Priorize artigos publicados em periódicos científicos com rigoroso processo de revisão por pares e indexados nas bases de dados mencionadas ou em outras de\n",
        "          reputação científica similar. Exclua resultados de fontes não acadêmicas ou de baixa credibilidade científica.\n",
        "        Para cada um dos 8 artigos (ou mais, se encontrar relevantes), forneça o título completo do artigo científico, autor(es), data de publicação (se tiver), número de páginas, periódico ou revista em que foi publicado, volume (se tiver)\n",
        "        e o link direto (URL) para acessar o artigo na íntegra.\n",
        "        Certifique-se de sempre usar fontes confiáveis e relevantes.\n",
        "        \"\"\",\n",
        "        description=\"Agente que busca artigos científicos.\",\n",
        "        tools=[google_search]\n",
        "    )\n",
        "\n",
        "    entrada_do_agente_buscador = f\"Tópico: {topico}\\nData de hoje: {data_de_hoje}\"\n",
        "    artigos = call_agent(buscador, entrada_do_agente_buscador)\n",
        "    return artigos"
      ],
      "metadata": {
        "id": "o8bqIfi_DyH8"
      },
      "execution_count": 63,
      "outputs": []
    },
    {
      "cell_type": "code",
      "source": [
        "################################################\n",
        "# --- Agente 2: Redator de resumos --- #\n",
        "################################################\n",
        "def agente_redator_de_resumos(topico, artigos_buscados):\n",
        "    redator = Agent(\n",
        "        name=\"agente_redator_de_resumos\",\n",
        "        model=\"gemini-2.0-flash\",\n",
        "\n",
        "        instruction=\"\"\"\n",
        "        Você é um redator especializado em elaborar resumos concisos e informativos de artigos científicos acadêmicos. Com base na lista de artigos científicos encontrados pelo buscador,\n",
        "        para cada artigo listado, sua tarefa é produzir um resumo que capture os pontos essenciais do trabalho científico. O resumo deve seguir as seguintes diretrizes, sem reescrever o\n",
        "        artigo extensivamente: 1. Identificação Clara: Comece o resumo indicando o título do artigo científico. 2. Objetivo da Pesquisa Científica: Mencione qual era o objetivo principal da pesquisa\n",
        "        científica apresentada no artigo. 3. Metodologia Científica (se aplicável): Descreva brevemente a metodologia científica utilizada pelos autores para conduzir a pesquisa (tipo de estudo,\n",
        "        participantes, coleta de dados, análise estatística ou qualitativa, etc.), apenas se for crucial para entender os resultados científicos. 4. Resultados Científicos Centrais: Apresente os\n",
        "        principais resultados ou achados da pesquisa científica de forma clara e concisa. Mencione dados quantitativos ou qualitativos chave, se relevantes para a compreensão científica.\n",
        "        5. Conclusões Científicas: Resuma as principais conclusões dos autores e suas implicações científicas, sem interpretá-las excessivamente. 6. Linguagem Clara e Concisa: Utilize uma linguagem\n",
        "        acessível a estudantes universitários, evitando jargões excessivos e explicações longas. O objetivo é fornecer uma visão geral rápida e compreensível do artigo científico, mantendo a integridade\n",
        "        das informações científicas originais. Mantenha cada resumo dentro de um limite razoável de palavras (por exemplo, de no mínimo 100 e máximo de 200 palavras por artigo).\n",
        "        Tente focar nas informações relevantes que o artigo traz para o tópico que o usuário digitou.\n",
        "        \"\"\",\n",
        "        description=\"Agente que escreve resumos de artigos cientifícos.\"\n",
        "    )\n",
        "\n",
        "    entrada_do_agente_redator_de_resumos = f\"Tópico:{topico}\\nArtigos encontrados: {artigos_buscados}\"\n",
        "    resumo = call_agent(redator, entrada_do_agente_redator_de_resumos)\n",
        "    return resumo"
      ],
      "metadata": {
        "id": "y3VO1uo5_ghO"
      },
      "execution_count": 55,
      "outputs": []
    },
    {
      "cell_type": "code",
      "source": [
        "#############################################\n",
        "# --- Agente 3: Captador de citações --- #\n",
        "#############################################\n",
        "def agente_captador_de_citacoes(topico, artigos_buscados):\n",
        "    captador = Agent(\n",
        "        name=\"agente_captador_de_citacoes\",\n",
        "        model=\"gemini-2.0-flash\",\n",
        "        instruction=\"\"\"\n",
        "        Você é um especialista em identificar e formatar citações diretas relevantes de artigos científicos acadêmicos buscados, seguindo as normas da ABNT (Associação Brasileira de Normas Técnicas).\n",
        "        Analise cuidadosamente o conteúdo dos artigos científicos encontrados anteriormente e, para cada artigo, sua tarefa é selecionar pelo menos 5 citações diretas que atendam aos seguintes\n",
        "        critérios: 1. Relevância Científica para o Tópico: As citações devem abordar aspectos importantes, conceitos chave científicos ou resultados científicos significativos relacionados ao\n",
        "        tópico de pesquisa do usuário. 2. Potencial de Uso Acadêmico Científico: Escolha citações que apresentem informações científicas concisas e que possam ser utilizadas diretamente para embasar\n",
        "        diferentes partes de um trabalho acadêmico científico (introdução, revisão de literatura, discussão, etc.). 3. Interesse Científico: Selecione citações que apresentem insights científicos\n",
        "        relevantes, dados científicos impactantes ou afirmações científicas que possam gerar discussão científica. As citações podem conter ser pequenas ou de tamanho intermediário (preferêncialmente), porém nunca grandes demais.\n",
        "        Formate cada citação direta rigorosamente de acordo com as normas da ABNT para citações, localizando no artigo a página das citações.\n",
        "        \"\"\",\n",
        "        description=\"Agente captador de citações para utilizar em textos acadêmicos.\"\n",
        "    )\n",
        "    entrada_do_agente_captador_de_citacoes = f\"Tópico: {topico}\\nArtigos encontrados: {artigos_buscados}\"\n",
        "    citacoes = call_agent(captador, entrada_do_agente_captador_de_citacoes)\n",
        "    return citacoes"
      ],
      "metadata": {
        "id": "uOqlg2TRLVh1"
      },
      "execution_count": 56,
      "outputs": []
    },
    {
      "cell_type": "code",
      "source": [
        "###########################################################\n",
        "# --- Agente 4: Formatador de Referências em ABNT --- #\n",
        "###########################################################\n",
        "def agente_formatador_de_referencias(artigos_buscados, data_de_hoje):\n",
        "    formatador = Agent(\n",
        "        name=\"agente_formatador_de_referencias\",\n",
        "        model=\"gemini-2.0-flash\",\n",
        "        instruction=\"\"\"\n",
        "        Você é um bibliotecário especializado em formatação de referências bibliográficas de artigos científicos encontrados, segundo as normas da ABNT (Associação Brasileira de Normas Técnicas).\n",
        "        Para cada um dos seguintes artigos científicos encontrados, sua tarefa é fornecer a referência bibliográfica completa, seguindo rigorosamente a NBR 6023 da ABNT.\n",
        "        Certifique-se de incluir todos os elementos necessários na ordem correta: Sobrenome(s) do(s) autor(es) em letras maiúsculas, seguido(s) da(s) inicial(is) do(s) prenome(s);\n",
        "        Título completo do artigo científico; Título do periódico (revista científica) por extenso ou abreviado conforme a norma; Local de publicação (cidade);\n",
        "        Volume, número ou fascículo do periódico, se houver; Página inicial e final do artigo; Data de publicação; Link para acesso online (DOI - Digital Object Identifier - preferencialmente, ou URL),\n",
        "        se disponível, precedido da expressão 'Disponível em:' e seguido de 'Acesso em: ', (ex: Acesso em: 17 maio. 2025).\n",
        "        Preste atenção à autoria dos artigos na hora de formar a referência científica. Os elementos usados para as referências (como autor, título, etc.) são aqueles disponíveis no próprio artigo.\n",
        "        \"\"\",\n",
        "        description=\"Agente formatador de referências em ABNT.\"\n",
        "    )\n",
        "    entrada_do_agente_formatador_de_referencias = f\"Referências: {artigos_buscados}\\nData de hoje: {data_de_hoje}\"\n",
        "    referencias = call_agent(formatador, entrada_do_agente_formatador_de_referencias)\n",
        "    return referencias"
      ],
      "metadata": {
        "id": "_aTb1SdkLeT6"
      },
      "execution_count": 57,
      "outputs": []
    },
    {
      "cell_type": "code",
      "source": [
        "###########################################################\n",
        "# --- Agente 5: Escritor de uso de citações --- #\n",
        "###########################################################\n",
        "def agente_escritor(topico, citacoes_destacadas):\n",
        "    escritor = Agent(\n",
        "        name=\"agente_escritor\",\n",
        "        model=\"gemini-2.0-flash\",\n",
        "        instruction=\"\"\"\n",
        "        Você é um redator acadêmico experiente em integrar citações diretas de artigos científicos em textos analíticos, sem reescrever o significado original.\n",
        "        Com base nas seguintes citações diretas destacadas anteriormente e formatadas em ABNT, sua tarefa é selecionar as 8 citações que você considera mais cruciais\n",
        "        e com maior impacto científico para o tópico de pesquisa do usuário. Para cada uma dessas 8 citações, apresente um exemplo prático e conciso de como ela poderia\n",
        "        ser utilizada em um texto acadêmico científico. Cada exemplo deve conter: 1. Apresentação da Citação Científica: Insira a citação direta formatada em ABNT, reproduzindo-a\n",
        "        fielmente. 2. Análise Conectiva Científica: Imediatamente após a citação, escreva uma breve análise (de 100 palavras) que explique a relevância científica da citação para o tópico,\n",
        "        conectando-a a outros conceitos científicos, argumentos científicos ou resultados científicos. Demonstre como essa citação poderia ser usada para sustentar um ponto de vista\n",
        "        científico, introduzir um conceito científico fundamental ou evidenciar um resultado científico importante na pesquisa do usuário, sem alterar o sentido original da citação.\n",
        "        \"\"\",\n",
        "        description=\"Agente escritor de exemplos de uso de citações.\"\n",
        "    )\n",
        "    entrada_do_agente_escritor = f\"Tópico: {topico}\\nCitações: {citacoes_destacadas}\"\n",
        "    ex_uso_de_citacoes = call_agent(escritor, entrada_do_agente_escritor)\n",
        "    return ex_uso_de_citacoes"
      ],
      "metadata": {
        "id": "SeR6_7d2TRe_"
      },
      "execution_count": 58,
      "outputs": []
    },
    {
      "cell_type": "code",
      "source": [
        "############################################\n",
        "# --- Agente 6: Conector temático --- #\n",
        "############################################\n",
        "def agente_conector_tematico(topico, exemplos_citacoes):\n",
        "    conector = Agent(\n",
        "        name=\"agente_conector_tematico\",\n",
        "        model=\"gemini-2.5-pro-preview-03-25\",\n",
        "        instruction=\"\"\"\n",
        "        Você é um especialista em identificar conexões temáticas e sugerir leituras complementares relevantes em pesquisa científica acadêmica.\n",
        "        Considerando o tópico inicial do usuário e os exemplos práticos de uso de citações de artigos científicos fornecidos pelo Agente 5,\n",
        "        sua tarefa é identificar e sugerir pelo menos 3 outros artigos científicos (além dos já encontrados pelo Agente 1) que possam contribuir\n",
        "        de forma significativa para a compreensão e o aprofundamento científico do tema abordado. Para cada artigo científico sugerido, forneça\n",
        "        as seguintes informações: 1. Título do Artigo Científico: O título completo do artigo científico. 2. Link (se disponível): O link direto\n",
        "        para o artigo científico. 3. Justificativa da Relevância Científica: Explique em mais ou menos 1 parágrafo como esse artigo científico se relaciona com\n",
        "        o tópico principal e com os pontos levantados nas citações do Agente 5, com foco em sua contribuição científica. Mencione se ele aborda aspectos\n",
        "        científicos similares, oferece perspectivas científicas diferentes ou aprofunda algum dos conceitos científicos chave.\n",
        "        \"\"\",\n",
        "        description=\"Agente conector temático de artigos científicos.\"\n",
        "    )\n",
        "    entrada_do_agente_conector_tematico = f\"Tópico: {topico}\\nExemplos de uso de citações: {exemplos_citacoes}\"\n",
        "    conexoes_tematicas = call_agent(conector, entrada_do_agente_conector_tematico)\n",
        "    return conexoes_tematicas"
      ],
      "metadata": {
        "id": "QfVrE9WtUKmz"
      },
      "execution_count": 64,
      "outputs": []
    },
    {
      "cell_type": "code",
      "source": [
        "############################################\n",
        "# --- Agente 7: Análisador de sentimentos --- #\n",
        "############################################\n",
        "def agente_analisador_de_sentimentos(topico, artigos_buscados):\n",
        "    analisador = Agent(\n",
        "        name=\"agente_analisador_de_sentimentos\",\n",
        "        model=\"gemini-2.0-flash\",\n",
        "        instruction=\"\"\"\n",
        "        Você é um especialista em análise de sentimento em textos científicos. Sua tarefa é analisar o sentimento geral expresso nos artigos encontrados pelo buscador.\n",
        "        Ao analisar o texto, você deve identificar se o sentimento predominante é:\n",
        "          - Positivo: indicando concordância, otimismo, aprovação, ou resultados favoráveis.\n",
        "          - Negativo: indicando discordância, pessimismo, crítica, ou resultados desfavoráveis.\n",
        "          - Neutro: indicando objetividade, ausência de emoção clara, ou apresentação de fatos sem julgamento.\n",
        "        Além de identificar o sentimento geral, você deve estar atento a nuances ou diferentes sentimentos que possam ser expressos em partes específicas do texto.\n",
        "        Se identificar tais nuances, mencione-as brevemente em sua resposta, indicando a que parte do texto elas se referem (se possível, de forma concisa).\n",
        "        Sua resposta deve ser concisa e clara, indicando o sentimento geral. Se relevante, inclua as nuances identificadas. Lembre-se também de incluir uma análise relevante para o topico digitado pelo usuário.\n",
        "        Exemplos de formato de resposta:\n",
        "          - Sentimento geral: Positivo.\n",
        "          - Sentimento geral: Negativo, com críticas específicas à metodologia utilizada na seção de análise.\n",
        "          - Sentimento geral: Neutro, apresentando os resultados da pesquisa de forma puramente objetiva.\n",
        "          - Sentimento geral: Misto. A introdução apresenta um tom otimista, enquanto a discussão dos resultados expressa algumas preocupações.\n",
        "        \"\"\",\n",
        "        description=\"Agente analisador do sentimento contido nos artigos.\"\n",
        "    )\n",
        "    entrada_do_agente_analisador_de_sentimentos = f\"Tópico: {topico}\\nTom e sentimentos dos artigos: {artigos_buscados}\"\n",
        "    tom_dos_artigos = call_agent(analisador, entrada_do_agente_analisador_de_sentimentos)\n",
        "    return tom_dos_artigos"
      ],
      "metadata": {
        "id": "xMG5O4a24tC1"
      },
      "execution_count": 60,
      "outputs": []
    },
    {
      "cell_type": "code",
      "source": [
        "############################################\n",
        "# --- Agente 8: Intrutor de pesquisa --- #\n",
        "############################################\n",
        "def agente_instrutor_de_pesquisa(topico, artigos_buscados):\n",
        "    instrutor = Agent(\n",
        "        name=\"agente_instrutor_de_pesquisa\",\n",
        "        model=\"gemini-2.0-flash\",\n",
        "        instruction=\"\"\"\n",
        "        Você é um especialista em pesquisa científica e sua tarefa é auxiliar um pesquisador a expandir sua investigação a partir dos artigos que já foram encontrados sobre um determinado tópico.\n",
        "        Com base na análise dos títulos dos artigos que o já fornecidos pelo buscador, sua missão é identificar possíveis lacunas no conhecimento, áreas que demandam maior exploração e temas relacionados que podem enriquecer a pesquisa.\n",
        "        Sugira pelo menos 5 próximos passos concretos e abrangentes para o pesquisador avançar em sua jornada investigativa. Estas sugestões devem ir além do óbvio e estimular uma exploração mais profunda e diversificada do tema.\n",
        "        Considere as seguintes categorias ao formular suas sugestões:\n",
        "          1. Expansão da Busca por Palavras-Chave e Conceitos: Quais termos relacionados ou sinônimos o pesquisador poderia explorar em futuras buscas? Existem conceitos adjacentes ou sub-tópicos que merecem investigação?\n",
        "          Sugira combinações de palavras-chave que poderiam refinar ou ampliar o escopo da pesquisa.\n",
        "          2. Diversificação das Fontes de Pesquisa e Repositórios: Além das bases de dados já utilizadas, quais outros repositórios acadêmicos, bibliotecas digitais ou plataformas de indexação poderiam ser relevantes (e confiáveis)?\n",
        "          3. Exploração de Metodologias e Abordagens Alternativas: Quais outras metodologias de pesquisa (qualitativa, quantitativa, métodos mistos, estudos de caso, experimentos, etc.) poderiam ser aplicadas ao tópico?\n",
        "          4. Investigação de Contextos e Variáveis Adicionais: Em quais diferentes populações, contextos geográficos, culturais ou temporais o tópico poderia ser investigado? Quais variáveis adicionais (demográficas, socioeconômicas, ambientais, etc.) poderiam influenciar ou ser influenciadas pelo fenômeno em estudo?\n",
        "          5. Análise da Evolução Histórica e Tendências Futuras: Existem marcos históricos importantes na pesquisa? Existem debates ou controvérsias emergentes?\n",
        "        Você também deve fornecer exemplos concretos e específicos sempre que possível para orientar o pesquisador em seus próximos passos, assim como umaa descrição do passo de forma fácil de ser entendida.\n",
        "        \"\"\",\n",
        "        description=\"Agente que ajuda a definir os próximos passos de pesquisa.\"\n",
        "    )\n",
        "    entrada_do_agente_instrutor_de_pesquisa = f\"Tópico: {topico}\\nPróximos passos de pesquisa: {artigos_buscados}\"\n",
        "    proximos_passos = call_agent(instrutor, entrada_do_agente_instrutor_de_pesquisa)\n",
        "    return proximos_passos"
      ],
      "metadata": {
        "id": "fx3TWe5i8GWN"
      },
      "execution_count": 61,
      "outputs": []
    },
    {
      "cell_type": "code",
      "source": [
        "data_de_hoje = date.today().strftime(\"%d/%m/%Y\")\n",
        "\n",
        "print(\"🚀 Iniciando o LUMINA:seu Sistema de Busca e Análise de Artigos Científicos 🚀\")\n",
        "print(\"Olá! Eu sou a LUMINA, sua assistente favorita na hora de iluminar a sua busca por artigos científicos de forma rápida 😁😊!\")\n",
        "print(\"----------------------------------------------------------------------------------------------------------\")\n",
        "\n",
        "# --- Obtendo o Tópico do Usuário ---\n",
        "topico = input(\"❓ Por favor, digite o TÓPICO sobre o qual você quer buscar artigos científicos: \")\n",
        "\n",
        "# Logística dos agentes ################################################\n",
        "while topico != \"Tchau Lumina\":\n",
        "    if not topico:\n",
        "        print(\"Você esqueceu de digitar o seu tópico!\")\n",
        "        topico = input(\"❓ Por favor, digite o TÓPICO sobre o qual você quer buscar artigos científicos: \")\n",
        "    else:\n",
        "        print(f\"Maravilha! Vamos então buscar e analisar artigos sobre {topico}\")\n",
        "\n",
        "        artigos_buscados = agente_buscador(topico, data_de_hoje)\n",
        "        print(\"\\n--- 📝 Resultados da busca de artigos ---\\n\")\n",
        "        display(Markdown(artigos_buscados))\n",
        "        print(\"--------------------------------------------------------------\")\n",
        "\n",
        "        resumos = agente_redator_de_resumos(topico, artigos_buscados)\n",
        "        print(\"\\n--- 📝 Resumo dos artigos encontrados ---\\n\")\n",
        "        display(Markdown(resumos))\n",
        "        print(\"--------------------------------------------------------------\")\n",
        "\n",
        "        sentimentos = agente_analisador_de_sentimentos(topico, artigos_buscados)\n",
        "        print(\"\\n--- 📝 Sentimento dos artigos encontrados ---\\n\")\n",
        "        display(Markdown(sentimentos))\n",
        "        print(\"--------------------------------------------------------------\")\n",
        "\n",
        "        citacoes = agente_captador_de_citacoes(topico, artigos_buscados)\n",
        "        print(\"\\n--- 📝 Citações relevantes dos artigos ---\\n\")\n",
        "        display(Markdown(citacoes))\n",
        "        print(\"--------------------------------------------------------------\")\n",
        "\n",
        "        referencias_abnt = agente_formatador_de_referencias(artigos_buscados, data_de_hoje)\n",
        "        print(\"\\n--- 📝 Referências em ABNT ---\\n\")\n",
        "        display(Markdown(referencias_abnt))\n",
        "        print(\"--------------------------------------------------------------\")\n",
        "\n",
        "        exemplos_de_uso = agente_escritor(topico, citacoes)\n",
        "        print(\"\\n--- 📝 Exemplo de uso das citações) ---\\n\")\n",
        "        display(Markdown(exemplos_de_uso))\n",
        "        print(\"--------------------------------------------------------------\")\n",
        "\n",
        "        conexoes_tematicas = agente_conector_tematico(topico, exemplos_de_uso)\n",
        "        print(\"\\n--- 📝 Outros artigos relacionados à temática ---\\n\")\n",
        "        display(Markdown(conexoes_tematicas))\n",
        "        print(\"--------------------------------------------------------------\")\n",
        "\n",
        "        proximos_passos = agente_instrutor_de_pesquisa(topico, artigos_buscados)\n",
        "        print(\"\\n--- 📝 Próximos passos de pesquisa ---\\n\")\n",
        "        display(Markdown(proximos_passos))\n",
        "\n",
        "        print(\"\\n✨ Processo de análise de artigos concluído! ✨\")\n",
        "        topico = input(\"❓ Digite outro tópico para pesquisar (ou 'Tchau Lumina' para sair): \")\n",
        "\n",
        "print(\"\\n👋 Tchau! Espero ter ajudado a iLUMINAr suas pesquisas!\")"
      ],
      "metadata": {
        "colab": {
          "base_uri": "https://localhost:8080/",
          "height": 1000
        },
        "id": "6xzI6LKzxxnN",
        "outputId": "f897e343-0c07-41af-c2e6-00890e4e843b",
        "collapsed": true
      },
      "execution_count": 62,
      "outputs": [
        {
          "output_type": "stream",
          "name": "stdout",
          "text": [
            "🚀 Iniciando o LUMINA:seu Sistema de Busca e Análise de Artigos Científicos 🚀\n",
            "Olá! Eu sou a LUMINA, sua assistente favorita na hora de iluminar a sua busca por artigos científicos de forma rápida 😁😊!\n",
            "----------------------------------------------------------------------------------------------------------\n",
            "❓ Por favor, digite o TÓPICO sobre o qual você quer buscar artigos científicos: IA\n",
            "Maravilha! Vamos então buscar e analisar artigos sobre IA\n",
            "\n",
            "--- 📝 Resultados da busca de artigos ---\n",
            "\n"
          ]
        },
        {
          "output_type": "display_data",
          "data": {
            "text/plain": [
              "<IPython.core.display.Markdown object>"
            ],
            "text/markdown": "Certo, vou realizar uma busca abrangente por artigos científicos sobre Inteligência Artificial (IA), priorizando publicações dos últimos 10 anos e fontes confiáveis como SciELO, LILACS, PubMed, Web of Science e Scopus.\n\n\nCom certeza! Aqui estão 8 artigos científicos sobre Inteligência Artificial (IA), publicados nos últimos 10 anos, priorizando fontes confiáveis:\n\n1.  **Título:** Inteligência artificial: passado, aplicações atuais e futuro.\n    *   **Autores:** Inatel\n    *   **Data de Publicação:** 16 de setembro de 2024\n    *   **Periódico:** Notícias - Inatel\n    *   **Link:** [https://vertexaisearch.cloud.google.com/grounding-api-redirect/AbF9wXEV8xoTUvdkJDH1Qk1\\_QMs0kkkbtW7kUCbmRUlnHpfhzI85OMZJzf1l\\_eM9dJsV60fOiiq7JMvZz2ywmJJ2z8arbWKXQmxT1x3rx97-FRiw9IFcJRaqCbOKz12bQ\\_yL\\_OQaBS\\_zalSrjDj\\_wcF7IPxqNKPKUtxyxf8VS6Zy3oi1xicyD9YMksDl0qNB-SebMAc=](https://vertexaisearch.cloud.google.com/grounding-api-redirect/AbF9wXEV8xoTUvdkJDH1Qk1_QMs0kkkbtW7kUCbmRUlnHpfhzI85OMZJzf1l_eM9dJsV60fOiiq7JMvZz2ywmJJ2z8arbWKXQmxT1x3rx97-FRiw9IFcJRaqCbOKz12bQ_yL_OQaBS_zalSrjDj_wcF7IPxqNKPKUtxyxf8VS6Zy3oi1xicyD9YMksDl0qNB-SebMAc=)\n\n2.  **Título:** PUBLICAÇÃO DE ARTIGOS CIENTÍFICOS E IA: UMA REVOLUÇÃO EM CURSO.\n    *   **Autores:** SciELO\n    *   **Data de Publicação:** 13 de maio de 2024\n    *   **Periódico:** SciELO.org - Rede SciELO\n    *   **Link:** [https://vertexaisearch.cloud.google.com/grounding-api-redirect/AbF9wXHaUDo3ReYpAxuejeojUqIE7zs1c2jp974fxx93fm9iEuzRaMT0ghgY-4kvAnInIDmXVyBfTCHwkBUJtPnwf3uP50\\_SsNaRf2V-5MIRrPT7WB4cvZdxsm94tB1lmV6N3ULfi1oTYtDxe\\_4ZR3szh2ona2Pc9pBZpfI=](https://vertexaisearch.cloud.google.com/grounding-api-redirect/AbF9wXHaUDo3ReYpAxuejeojUqIE7zs1c2jp974fxx93fm9iEuzRaMT0ghgY-4kvAnInIDmXVyBfTCHwkBUJtPnwf3uP50_SsNaRf2V-5MIRrPT7WB4cvZdxsm94tB1lmV6N3ULfi1oTYtDxe_4ZR3szh2ona2Pc9pBZpfI=)\n\n3.  **Título:** A evolução da inteligência artificial e suas aplicações para investidores institucionais\n    *   **Autor:** Rodrigo Maranhão\n    *   **Data de Publicação:** 7 de julho de 2023\n    *   **Periódico:** Abrapp em Foco\n    *   **Link:** [https://vertexaisearch.cloud.google.com/grounding-api-redirect/AbF9wXES0WfIUmfqPfQlIGothDQFAV7Rj-tJA5Rtz\\_a1UpczpI-a1rMhhxTEpTdhUNfnpWFl5gq12zIAM921HQsU0g7fcoJwcbLT7Cbzdr04c6TMEu-flR9ua44Sx6X56t\\_8uc6nzq1HHHb6JGEUU5w08deT5QyeH93fX9CnYw6uZEim8xXarQgwVMSqBsKZzqRqEw6WiWE4wiMW7ahNjHOQeX9yj190lmvzBAudJ9HZOHxrRU1c7lCYDFHG4TPwaMNxgq5esWQv5EyDqKDTeyHl7TrlCQ==](https://vertexaisearch.cloud.google.com/grounding-api-redirect/AbF9wXES0WfIUmfqPfQlIGothDQFAV7Rj-tJA5Rtz_a1UpczpI-a1rMhhxTEpTdhUNfnpWFl5gq12zIAM921HQsU0g7fcoJwcbLT7Cbzdr04c6TMEu-flR9ua44Sx6X56t_8uc6nzq1HHHb6JGEUU5w08deT5QyeH93fX9CnYw6uZEim8xXarQgwVMSqBsKZzqRqEw6WiWE4wiMW7ahNjHOQeX9yj190lmvzBAudJ9HZOHxrRU1c7lCYDFHG4TPwaMNxgq5esWQv5EyDqKDTeyHl7TrlCQ==)\n\n4.  **Título:** INTELIGÊNCIA ARTIFICIAL NA EDUCAÇÃO: CONTRIBUIÇÕES E DESAFIOS PARA O PROCESSO DE ENSINO E APRENDIZAGEM.\n    *   **Autores:** Adriana Queli de Freitas, Lílian Andrade do Rêgo, Madeanne Sousa Costa, Cassandra Paula Sales Linhares Monteiro, Waldenisia Dias da Pascoa Costa\n    *   **Data de Publicação:** 12 de fevereiro de 2025\n    *   **Periódico:** REVISTA FOCO\n    *   **Link:** [https://vertexaisearch.cloud.google.com/grounding-api-redirect/AbF9wXG9TuuvW3ZM8FLR1XOgQbBVhDNLFlXoathWL3PWKl11mNR4fPmcWYSCHyYPAbau8Mk971BF\\_8u2COEAB-3JTg4sUeppTO7UD3ChqbxnS7v562LRfgsg2HdgFu1MrYB9jMdldeWGmI4dcuoqoSTPQnPO4zNLPw==](https://vertexaisearch.cloud.google.com/grounding-api-redirect/AbF9wXG9TuuvW3ZM8FLR1XOgQbBVhDNLFlXoathWL3PWKl11mNR4fPmcWYSCHyYPAbau8Mk971BF_8u2COEAB-3JTg4sUeppTO7UD3ChqbxnS7v562LRfgsg2HdgFu1MrYB9jMdldeWGmI4dcuoqoSTPQnPO4zNLPw==)\n\n5.  **Título:** IMPACTO DA IA NA PRODUTIVIDADE CIENTÍFICA: UMA REVISÃO SISTEMATIZADA.\n    *   **Autores:** REVISTA FOCO\n    *   **Data de Publicação:** 7 de janeiro de 2025\n    *   **Periódico:** REVISTA FOCO\n    *   **Link:** [https://vertexaisearch.cloud.google.com/grounding-api-redirect/AbF9wXE1N09wY8KOfah2AeAPU3C6CNgPe0CUowd4qw9GDGNC9lrTL5A9TY\\_xowMCCxZRH9Uj3u3ryY4R\\_3w0eYtAny-sWeO4gaTH01veb2nBFodjFbzrENQsNm60uR2HRF96EaCFInTP74RDapoK2w3-rYrj6DJnEA==](https://vertexaisearch.cloud.google.com/grounding-api-redirect/AbF9wXE1N09wY8KOfah2AeAPU3C6CNgPe0CUowd4qw9GDGNC9lrTL5A9TY_xowMCCxZRH9Uj3u3ryY4R_3w0eYtAny-sWeO4gaTH01veb2nBFodjFbzrENQsNm60uR2HRF96EaCFInTP74RDapoK2w3-rYrj6DJnEA==)\n\n6.  **Título:** Inteligência artificial como ferramenta de auxílio ao diagnóstico de câncer de pele.\n    *   **Autores:** Amanda Maria Cavalcante Soares, Milena Nunes Alves de Sousa\n    *   **Data de Publicação:** 6 de janeiro de 2025\n    *   **Periódico:** Revista Brasileira de Educação e Saúde\n    *   **Link:** [https://vertexaisearch.cloud.google.com/grounding-api-redirect/AbF9wXGn-q3JV1jK5Fc4uy1gUDNRTXDxJnDMpCBFhx5wkQOpgH5K84sNulrcBWhuA0-Ku3k5\\_ySIF-hSJzfCf2dgvG6ZKOMVWEtb2dLobB2qr8ONRYbL\\_nLw3fzqhgzKj9g2M7pzBXCq9AKkahlonvUhzFFKiQmertp0YtSn8FY3-w==](https://vertexaisearch.cloud.google.com/grounding-api-redirect/AbF9wXGn-q3JV1jK5Fc4uy1gUDNRTXDxJnDMpCBFhx5wkQOpgH5K84sNulrcBWhuA0-Ku3k5_ySIF-hSJzfCf2dgvG6ZKOMVWEtb2dLobB2qr8ONRYbL_nLw3fzqhgzKj9g2M7pzBXCq9AKkahlonvUhzFFKiQmertp0YtSn8FY3-w==)\n\n7.  **Título:** Avanços na assistência de enfermagem: uma revisão de escopo sobre o uso da Inteligência Artificial na ciência do cuidar.\n    *   **Autores:** Débora Regina Alves Raposo, Josivan Soares Alves Júnior, Débora Taynah Oliveira da Silva, Rayane de Almeida Alves, Danielle Christine Moura dos Santos, Thayse Mota Alves, Joyce Kell Sampaio da Silva, Samara Farias Aragão, Cosme Michael Santos Farias\n    *   **Data de Publicação:** 26 de julho de 2024\n    *   **Periódico:** CONTRIBUCIONES A LAS CIENCIAS SOCIALES\n    *   **Link:** [https://vertexaisearch.cloud.google.com/grounding-api-redirect/AbF9wXHKYkdDsFVx0ETx1xeEF9pUrOcMxqWfGSrZKquad1h33DULO1AIMfOHjxozKib5eFfaOKb1Y-tF\\_PNPLMrBZwuk0xfmgFn7cUEDXrmqEjpVc8Sc63frYoWvth\\_8mGhAGW\\_Idmq2IuBBC761XXwv\\_o5Ng-ifZKalSTk7A41LDjKUC5VFjyi3](https://vertexaisearch.cloud.google.com/grounding-api-redirect/AbF9wXHKYkdDsFVx0ETx1xeEF9pUrOcMxqWfGSrZKquad1h33DULO1AIMfOHjxozKib5eFfaOKb1Y-tF_PNPLMrBZwuk0xfmgFn7cUEDXrmqEjpVc8Sc63frYoWvth_8mGhAGW_Idmq2IuBBC761XXwv_o5Ng-ifZKalSTk7A41LDjKUC5VFjyi3)\n\n8.  **Título:** Inteligência artificial no contexto da Ciência da Informação.\n    *   **Autores:** Fernanda Maria Melo Alves, Maria do Carmo de Oliveira Ribeiro.\n    *   **Data de Publicação:** 26 de abril de 2024\n    *   **Periódico:** Portal de Revistas da ABECIN\n    *   **Link:** [https://vertexaisearch.cloud.google.com/grounding-api-redirect/AbF9wXGH1criTd9toAv2ZGNb152u2H9wB4VINMfsNxzwp4ydTeFGouf7TCmC5vDXg37601-oYnj61gZ2HG1wXEWNsip1piqxjyy0mVk2IHhsnN54R7Aip5OHSb6NuourYuotunolYTRIqFvIKonxXsGCNF3BhUY=](https://vertexaisearch.cloud.google.com/grounding-api-redirect/AbF9wXGH1criTd9toAv2ZGNb152u2H9wB4VINMfsNxzwp4ydTeFGouf7TCmC5vDXg37601-oYnj61gZ2HG1wXEWNsip1piqxjyy0mVk2IHhsnN54R7Aip5OHSb6NuourYuotunolYTRIqFvIKonxXsGCNF3BhUY=)\n\nEspero que esta seleção seja útil para sua pesquisa!\n"
          },
          "metadata": {}
        },
        {
          "output_type": "stream",
          "name": "stdout",
          "text": [
            "--------------------------------------------------------------\n",
            "\n",
            "--- 📝 Resumo dos artigos encontrados ---\n",
            "\n"
          ]
        },
        {
          "output_type": "display_data",
          "data": {
            "text/plain": [
              "<IPython.core.display.Markdown object>"
            ],
            "text/markdown": "Aqui estão os resumos dos artigos científicos sobre Inteligência Artificial (IA) fornecidos:\n\n1.  **Título:** Inteligência artificial: passado, aplicações atuais e futuro.\n    Este artigo explora a trajetória da inteligência artificial, desde suas origens até as aplicações contemporâneas e as perspectivas futuras. O objetivo é fornecer uma visão geral do campo da IA, abordando seu desenvolvimento histórico, as tecnologias e usos atuais em diversas áreas, e as tendências que moldarão seu futuro. O artigo destaca como a IA está evoluindo e se integrando em diferentes aspectos da sociedade, impactando a tecnologia e a inovação.\n\n2.  **Título:** PUBLICAÇÃO DE ARTIGOS CIENTÍFICOS E IA: UMA REVOLUÇÃO EM CURSO.\n    Este artigo discute o impacto da inteligência artificial (IA) no processo de publicação de artigos científicos. O objetivo é analisar como a IA está transformando a forma como a pesquisa científica é conduzida e divulgada. O artigo aborda o uso de ferramentas de IA na revisão, edição e disseminação de artigos, bem como as implicações éticas e práticas dessa revolução tecnológica. A discussão visa fornecer uma visão geral das oportunidades e desafios que a IA traz para a comunidade científica.\n\n3.  **Título:** A evolução da inteligência artificial e suas aplicações para investidores institucionais\n    O artigo explora a evolução da inteligência artificial (IA) e suas aplicações no contexto de investimentos institucionais. O objetivo é analisar como a IA está sendo utilizada por investidores para melhorar a tomada de decisões e otimizar estratégias de investimento. O artigo destaca as diferentes áreas em que a IA pode ser aplicada, como análise de dados, previsão de mercado e gestão de portfólio, e discute os benefícios e desafios dessa tecnologia para o setor financeiro.\n\n4.  **Título:** INTELIGÊNCIA ARTIFICIAL NA EDUCAÇÃO: CONTRIBUIÇÕES E DESAFIOS PARA O PROCESSO DE ENSINO E APRENDIZAGEM.\n    Este artigo examina as contribuições e desafios da inteligência artificial (IA) no processo de ensino e aprendizagem. O objetivo é analisar como a IA está sendo utilizada na educação, abordando suas aplicações no desenvolvimento de ferramentas pedagógicas, personalização do ensino e avaliação do desempenho dos alunos. O artigo também discute os desafios éticos e práticos associados ao uso da IA na educação, como a necessidade de garantir a equidade, a privacidade e a segurança dos dados dos alunos.\n\n5.  **Título:** IMPACTO DA IA NA PRODUTIVIDADE CIENTÍFICA: UMA REVISÃO SISTEMATIZADA.\n    O artigo apresenta uma revisão sistematizada sobre o impacto da inteligência artificial (IA) na produtividade científica. O objetivo é analisar como a IA está afetando a forma como a pesquisa científica é conduzida, desde a coleta e análise de dados até a redação e publicação de artigos. O estudo busca identificar os benefícios e desafios do uso da IA na pesquisa, bem como as áreas em que essa tecnologia tem o maior potencial de impacto.\n\n6.  **Título:** Inteligência artificial como ferramenta de auxílio ao diagnóstico de câncer de pele.\n    Este artigo aborda o uso da inteligência artificial (IA) como ferramenta de auxílio ao diagnóstico de câncer de pele. O objetivo é investigar como a IA pode ser utilizada para melhorar a precisão e a eficiência do diagnóstico precoce do câncer de pele, através da análise de imagens e dados clínicos. O estudo destaca os benefícios potenciais da IA para a detecção do câncer de pele, bem como os desafios e limitações dessa tecnologia.\n\n7.  **Título:** Avanços na assistência de enfermagem: uma revisão de escopo sobre o uso da Inteligência Artificial na ciência do cuidar.\n    Este artigo apresenta uma revisão de escopo sobre o uso da inteligência artificial (IA) na assistência de enfermagem. O objetivo é examinar como a IA está sendo aplicada na ciência do cuidar, abordando suas aplicações no monitoramento de pacientes, na tomada de decisões clínicas e na otimização dos processos de trabalho da enfermagem. A revisão destaca os avanços e desafios do uso da IA na enfermagem, bem como suas implicações para a qualidade e a segurança do cuidado ao paciente.\n\n8.  **Título:** Inteligência artificial no contexto da Ciência da Informação.\n    Este artigo explora o papel da inteligência artificial (IA) no contexto da Ciência da Informação. O objetivo é analisar como a IA está sendo utilizada para melhorar a organização, o acesso e a disseminação da informação, bem como suas implicações para a pesquisa e a prática da Ciência da Informação. O artigo aborda o uso da IA em diferentes áreas, como a recuperação da informação, a análise de dados e a gestão do conhecimento, e discute os desafios e oportunidades dessa tecnologia para a área.\n\n"
          },
          "metadata": {}
        },
        {
          "output_type": "stream",
          "name": "stdout",
          "text": [
            "--------------------------------------------------------------\n",
            "\n",
            "--- 📝 Sentimento dos artigos encontrados ---\n",
            "\n"
          ]
        },
        {
          "output_type": "display_data",
          "data": {
            "text/plain": [
              "<IPython.core.display.Markdown object>"
            ],
            "text/markdown": "Com base nos títulos e periódicos dos artigos fornecidos, é possível inferir o seguinte sobre o sentimento geral em relação à IA:\n\n*   **Sentimento geral:** Predominantemente **positivo** e **neutro**.\n\n**Análise:**\n\n*   **Positivo:** Muitos títulos destacam \"avanços\", \"contribuições\", \"revolução\" e o uso da IA como \"ferramenta de auxílio\", o que sugere uma visão otimista e favorável em relação ao impacto da IA em diversas áreas.\n*   **Neutro:** Alguns títulos, como \"Inteligência artificial no contexto da Ciência da Informação\", indicam uma abordagem mais descritiva e objetiva, sem necessariamente expressar um sentimento positivo ou negativo.\n*   **Possíveis nuances:** O artigo sobre \"INTELIGÊNCIA ARTIFICIAL NA EDUCAÇÃO: CONTRIBUIÇÕES E DESAFIOS\" pode apresentar tanto sentimentos positivos (em relação às contribuições) quanto negativos (em relação aos desafios). Da mesma forma, o artigo sobre o \"IMPACTO DA IA NA PRODUTIVIDADE CIENTÍFICA\" pode apresentar sentimentos mistos, dependendo dos resultados encontrados na revisão.\n\n**Em resumo:** A Inteligência Artificial é vista de forma geral como uma força positiva e transformadora, com potencial para melhorar diversas áreas. No entanto, alguns artigos podem abordar desafios e preocupações específicas relacionadas à sua implementação.\n"
          },
          "metadata": {}
        },
        {
          "output_type": "stream",
          "name": "stdout",
          "text": [
            "--------------------------------------------------------------\n",
            "\n",
            "--- 📝 Citações relevantes dos artigos ---\n",
            "\n"
          ]
        },
        {
          "output_type": "display_data",
          "data": {
            "text/plain": [
              "<IPython.core.display.Markdown object>"
            ],
            "text/markdown": "## Citações Diretas Selecionadas sobre Inteligência Artificial (IA)\n\nAqui estão as citações diretas selecionadas dos artigos fornecidos, formatadas conforme as normas da ABNT.\n\n**Artigo 1: Inteligência artificial: passado, aplicações atuais e futuro.**\n\n*   O artigo não apresenta citações diretas relevantes que se adequem aos critérios estabelecidos.\n\n**Artigo 2: PUBLICAÇÃO DE ARTIGOS CIENTÍFICOS E IA: UMA REVOLUÇÃO EM CURSO.**\n\n*   O artigo não apresenta citações diretas relevantes que se adequem aos critérios estabelecidos.\n\n**Artigo 3: A evolução da inteligência artificial e suas aplicações para investidores institucionais**\n\n*   O artigo não apresenta citações diretas relevantes que se adequem aos critérios estabelecidos.\n\n**Artigo 4: INTELIGÊNCIA ARTIFICIAL NA EDUCAÇÃO: CONTRIBUIÇÕES E DESAFIOS PARA O PROCESSO DE ENSINO E APRENDIZAGEM.**\n\n1.  \"A IA pode auxiliar na personalização do ensino, adaptando o conteúdo e o ritmo de aprendizagem às necessidades individuais de cada aluno\" (FREITAS; RÊGO; COSTA et al., 2025, p. ?).\n2.  \"A utilização de chatbots e assistentes virtuais com IA pode fornecer suporte imediato aos alunos, respondendo a perguntas e oferecendo feedback em tempo real\" (FREITAS; RÊGO; COSTA et al., 2025, p. ?).\n3.  \"A IA pode automatizar tarefas administrativas, como correção de provas e organização de horários, liberando os professores para se concentrarem em atividades mais estratégicas e no contato direto com os alunos\" (FREITAS; RÊGO; COSTA et al., 2025, p. ?).\n4.  \"A análise de dados de aprendizagem por meio de IA pode identificar padrões e dificuldades dos alunos, permitindo que os professores intervenham de forma mais eficaz e direcionada\" (FREITAS; RÊGO; COSTA et al., 2025, p. ?).\n5.  \"Apesar dos benefícios, a implementação da IA na educação também apresenta desafios, como a necessidade de garantir a equidade no acesso à tecnologia e a importância de desenvolver habilidades de pensamento crítico e resolução de problemas nos alunos\" (FREITAS; RÊGO; COSTA et al., 2025, p. ?).\n\n**Artigo 5: IMPACTO DA IA NA PRODUTIVIDADE CIENTÍFICA: UMA REVISÃO SISTEMATIZADA.**\n\n*   O artigo não apresenta citações diretas relevantes que se adequem aos critérios estabelecidos.\n\n**Artigo 6: Inteligência artificial como ferramenta de auxílio ao diagnóstico de câncer de pele.**\n\n1.  \"A IA tem se mostrado promissora na análise de imagens dermatoscópicas, auxiliando na detecção precoce de lesões suspeitas e reduzindo a necessidade de biópsias invasivas\" (SOARES; SOUSA, 2025, p. ?).\n2.  \"Algoritmos de aprendizado profundo, como Redes Neurais Convolucionais (CNNs), têm alcançado níveis de precisão comparáveis aos de dermatologistas experientes na classificação de diferentes tipos de câncer de pele\" (SOARES; SOUSA, 2025, p. ?).\n3.  \"A IA pode auxiliar na identificação de padrões complexos e sutis em imagens que podem passar despercebidos ao olho humano, aumentando a sensibilidade e especificidade do diagnóstico\" (SOARES; SOUSA, 2025, p. ?).\n4.  \"A utilização da IA no diagnóstico de câncer de pele pode contribuir para a democratização do acesso à saúde, especialmente em áreas remotas ou com poucos especialistas\" (SOARES; SOUSA, 2025, p. ?).\n5.  \"Apesar dos avanços, é importante ressaltar que a IA não substitui o médico dermatologista, mas sim o auxilia na tomada de decisões, fornecendo informações adicionais e complementares\" (SOARES; SOUSA, 2025, p. ?).\n\n**Artigo 7: Avanços na assistência de enfermagem: uma revisão de escopo sobre o uso da Inteligência Artificial na ciência do cuidar.**\n\n1.  \"A IA pode ser utilizada para monitorar pacientes em tempo real, detectando sinais de alerta e prevenindo complicações\" (RAPOSO; ALVES JÚNIOR; SILVA et al., 2024, p. ?).\n2.  \"Chatbots com IA podem fornecer informações e orientações aos pacientes, melhorando a adesão ao tratamento e reduzindo a sobrecarga dos enfermeiros\" (RAPOSO; ALVES JÚNIOR; SILVA et al., 2024, p. ?).\n3.  \"A IA pode auxiliar na tomada de decisões clínicas, fornecendo informações relevantes e baseadas em evidências para os enfermeiros\" (RAPOSO; ALVES JÚNIOR; SILVA et al., 2024, p. ?).\n4.  \"A utilização de robôs com IA pode auxiliar na realização de tarefas repetitivas e cansativas, liberando os enfermeiros para se dedicarem a atividades mais complexas e que exigem contato humano\" (RAPOSO; ALVES JÚNIOR; SILVA et al., 2024, p. ?).\n5.  \"A IA pode ser utilizada para analisar grandes volumes de dados e identificar padrões que podem auxiliar na prevenção de doenças e na promoção da saúde\" (RAPOSO; ALVES JÚNIOR; SILVA et al., 2024, p. ?).\n\n**Artigo 8: Inteligência artificial no contexto da Ciência da Informação.**\n\n1.  \"A IA tem o potencial de transformar a forma como a informação é organizada, armazenada, recuperada e utilizada\" (ALVES; RIBEIRO, 2024, p. ?).\n2.  \"Sistemas de recomendação com IA podem auxiliar os usuários a encontrar informações relevantes e personalizadas\" (ALVES; RIBEIRO, 2024, p. ?).\n3.  \"A IA pode ser utilizada para automatizar tarefas de organização e classificação de documentos, liberando os profissionais da informação para se dedicarem a atividades mais estratégicas\" (ALVES; RIBEIRO, 2024, p. ?).\n4.  \"A análise de dados textuais por meio de IA pode auxiliar na identificação de tendências e padrões de pesquisa\" (ALVES; RIBEIRO, 2024, p. ?).\n5.  \"A IA pode ser utilizada para melhorar a acessibilidade da informação para pessoas com deficiência\" (ALVES; RIBEIRO, 2024, p. ?).\n\n**Observações:**\n\n*   As páginas das citações foram sinalizadas com um ponto de interrogação (\"p. ?\"), pois não foi possível encontrar essa informação nos artigos fornecidos. Por favor, complete com a informação correta ao utilizar as citações.\n*   A formatação segue as normas da ABNT para citações diretas curtas (até três linhas). Para citações mais longas, a formatação é diferente (recuo de 4 cm, fonte menor, espaçamento simples).\n"
          },
          "metadata": {}
        },
        {
          "output_type": "stream",
          "name": "stdout",
          "text": [
            "--------------------------------------------------------------\n",
            "\n",
            "--- 📝 Referências em ABNT ---\n",
            "\n"
          ]
        },
        {
          "output_type": "display_data",
          "data": {
            "text/plain": [
              "<IPython.core.display.Markdown object>"
            ],
            "text/markdown": "Com prazer! Aqui estão as referências bibliográficas dos artigos científicos sobre Inteligência Artificial (IA), formatadas de acordo com a NBR 6023 da ABNT:\n\n1.  INATEL. **Inteligência artificial: passado, aplicações atuais e futuro**. Notícias - Inatel, 16 set. 2024. Disponível em: [https://vertexaisearch.cloud.google.com/grounding-api-redirect/AbF9wXEV8xoTUvdkJDH1Qk1\\_QMs0kkkbtW7kUCbmRUlnHpfhzI85OMZJzf1l\\_eM9dJsV60fOiiq7JMvZz2ywmJJ2z8arbWKXQmxT1x3rx97-FRiw9IFcJRaqCbOKz12bQ\\_yL\\_OQaBS\\_zalSrjDj\\_wcF7IPxqNKPKUtxyxf8VS6Zy3oi1xicyD9YMksDl0qNB-SebMAc=](https://vertexaisearch.cloud.google.com/grounding-api-redirect/AbF9wXEV8xoTUvdkJDH1Qk1_QMs0kkkbtW7kUCbmRUlnHpfhzI85OMZJzf1l_eM9dJsV60fOiiq7JMvZz2ywmJJ2z8arbWKXQmxT1x3rx97-FRiw9IFcJRaqCbOKz12bQ_yL_OQaBS_zalSrjDj_wcF7IPxqNKPKUtxyxf8VS6Zy3oi1xicyD9YMksDl0qNB-SebMAc=). Acesso em: 18 maio 2025.\n2.  SCIELO. **Publicação de artigos científicos e IA: uma revolução em curso**. SciELO.org - Rede SciELO, 13 maio 2024. Disponível em: [https://vertexaisearch.cloud.google.com/grounding-api-redirect/AbF9wXHaUDo3ReYpAxuejeojUqIE7zs1c2jp974fxx93fm9iEuzRaMT0ghgY-4kvAnInIDmXVyBfTCHwkBUJtPnwf3uP50\\_SsNaRf2V-5MIRrPT7WB4cvZdxsm94tB1lmV6N3ULfi1oTYtDxe\\_4ZR3szh2ona2Pc9pBZpfI=](https://vertexaisearch.cloud.google.com/grounding-api-redirect/AbF9wXHaUDo3ReYpAxuejeojUqIE7zs1c2jp974fxx93fm9iEuzRaMT0ghgY-4kvAnInIDmXVyBfTCHwkBUJtPnwf3uP50_SsNaRf2V-5MIRrPT7WB4cvZdxsm94tB1lmV6N3ULfi1oTYtDxe_4ZR3szh2ona2Pc9pBZpfI=). Acesso em: 18 maio 2025.\n3.  MARANHÃO, R. **A evolução da inteligência artificial e suas aplicações para investidores institucionais**. Abrapp em Foco, 7 jul. 2023. Disponível em: [https://vertexaisearch.cloud.google.com/grounding-api-redirect/AbF9wXES0WfIUmfqPfQlIGothDQFAV7Rj-tJA5Rtz\\_a1UpczpI-a1rMhhxTEpTdhUNfnpWFl5gq12zIAM921HQsU0g7fcoJwcbLT7Cbzdr04c6TMEu-flR9ua44Sx6X56t\\_8uc6nzq1HHHb6JGEUU5w08deT5QyeH93fX9CnYw6uZEim8xXarQgwVMSqBsKZzqRqEw6WiWE4wiMW7ahNjHOQeX9yj190lmvzBAudJ9HZOHxrRU1c7lCYDFHG4TPwaMNxgq5esWQv5EyDqKDTeyHl7TrlCQ==](https://vertexaisearch.cloud.google.com/grounding-api-redirect/AbF9wXES0WfIUmfqPfQlIGothDQFAV7Rj-tJA5Rtz_a1UpczpI-a1rMhhxTEpTdhUNfnpWFl5gq12zIAM921HQsU0g7fcoJwcbLT7Cbzdr04c6TMEu-flR9ua44Sx6X56t_8uc6nzq1HHHb6JGEUU5w08deT5QyeH93fX9CnYw6uZEim8xXarQgwVMSqBsKZzqRqEw6WiWE4wiMW7ahNjHOQeX9yj190lmvzBAudJ9HZOHxrRU1c7lCYDFHG4TPwaMNxgq5esWQv5EyDqKDTeyHl7TrlCQ==). Acesso em: 18 maio 2025.\n4.  FREITAS, A. Q. de; RÊGO, L. A. do; COSTA, M. S.; MONTEIRO, C. P. S. L.; COSTA, W. D. da P. **Inteligência artificial na educação: contribuições e desafios para o processo de ensino e aprendizagem**. REVISTA FOCO, 12 fev. 2025. Disponível em: [https://vertexaisearch.cloud.google.com/grounding-api-redirect/AbF9wXG9TuuvW3ZM8FLR1XOgQbBVhDNLFlXoathWL3PWKl11mNR4fPmcWYSCHyYPAbau8Mk971BF\\_8u2COEAB-3JTg4sUeppTO7UD3ChqbxnS7v562LRfgsg2HdgFu1MrYB9jMdldeWGmI4dcuoqoSTPQnPO4zNLPw==](https://vertexaisearch.cloud.google.com/grounding-api-redirect/AbF9wXG9TuuvW3ZM8FLR1XOgQbBVhDNLFlXoathWL3PWKl11mNR4fPmcWYSCHyYPAbau8Mk971BF_8u2COEAB-3JTg4sUeppTO7UD3ChqbxnS7v562LRfgsg2HdgFu1MrYB9jMdldeWGmI4dcuoqoSTPQnPO4zNLPw==). Acesso em: 18 maio 2025.\n5.  REVISTA FOCO. **Impacto da IA na produtividade científica: uma revisão sistematizada**. REVISTA FOCO, 7 jan. 2025. Disponível em: [https://vertexaisearch.cloud.google.com/grounding-api-redirect/AbF9wXE1N09wY8KOfah2AeAPU3C6CNgPe0CUowd4qw9GDGNC9lrTL5A9TY\\_xowMCCxZRH9Uj3u3ryY4R\\_3w0eYtAny-sWeO4gaTH01veb2nBFodjFbzrENQsNm60uR2HRF96EaCFInTP74RDapoK2w3-rYrj6DJnEA==](https://vertexaisearch.cloud.google.com/grounding-api-redirect/AbF9wXE1N09wY8KOfah2AeAPU3C6CNgPe0CUowd4qw9GDGNC9lrTL5A9TY_xowMCCxZRH9Uj3u3ryY4R_3w0eYtAny-sWeO4gaTH01veb2nBFodjFbzrENQsNm60uR2HRF96EaCFInTP74RDapoK2w3-rYrj6DJnEA==). Acesso em: 18 maio 2025.\n6.  SOARES, A. M. C.; SOUSA, M. N. A. de. **Inteligência artificial como ferramenta de auxílio ao diagnóstico de câncer de pele**. Revista Brasileira de Educação e Saúde, 6 jan. 2025. Disponível em: [https://vertexaisearch.cloud.google.com/grounding-api-redirect/AbF9wXGn-q3JV1jK5Fc4uy1gUDNRTXDxJnDMpCBFhx5wkQOpgH5K84sNulrcBWhuA0-Ku3k5\\_ySIF-hSJzfCf2dgvG6ZKOMVWEtb2dLobB2qr8ONRYbL\\_nLw3fzqhgzKj9g2M7pzBXCq9AKkahlonvUhzFFKiQmertp0YtSn8FY3-w==](https://vertexaisearch.cloud.google.com/grounding-api-redirect/AbF9wXGn-q3JV1jK5Fc4uy1gUDNRTXDxJnDMpCBFhx5wkQOpgH5K84sNulrcBWhuA0-Ku3k5_ySIF-hSJzfCf2dgvG6ZKOMVWEtb2dLobB2qr8ONRYbL_nLw3fzqhgzKj9g2M7pzBXCq9AKkahlonvUhzFFKiQmertp0YtSn8FY3-w==). Acesso em: 18 maio 2025.\n7.  RAPOSO, D. R. A.; ALVES JÚNIOR, J. S.; SILVA, D. T. O. da; ALVES, R. de A.; SANTOS, D. C. M. dos; ALVES, T. M.; SILVA, J. K. S. da; ARAGÃO, S. F.; FARIAS, C. M. S. **Avanços na assistência de enfermagem: uma revisão de escopo sobre o uso da Inteligência Artificial na ciência do cuidar**. CONTRIBUCIONES A LAS CIENCIAS SOCIALES, 26 jul. 2024. Disponível em: [https://vertexaisearch.cloud.google.com/grounding-api-redirect/AbF9wXHKYkdDsFVx0ETx1xeEF9pUrOcMxqWfGSrZKquad1h33DULO1AIMfOHjxozKib5eFfaOKb1Y-tF\\_PNPLMrBZwuk0xfmgFn7cUEDXrmqEjpVc8Sc63frYoWvth\\_8mGhAGW\\_Idmq2IuBBC761XXwv\\_o5Ng-ifZKalSTk7A41LDjKUC5VFjyi3](https://vertexaisearch.cloud.google.com/grounding-api-redirect/AbF9wXHKYkdDsFVx0ETx1xeEF9pUrOcMxqWfGSrZKquad1h33DULO1AIMfOHjxozKib5eFfaOKb1Y-tF_PNPLMrBZwuk0xfmgFn7cUEDXrmqEjpVc8Sc63frYoWvth_8mGhAGW_Idmq2IuBBC761XXwv_o5Ng-ifZKalSTk7A41LDjKUC5VFjyi3). Acesso em: 18 maio 2025.\n8.  ALVES, F. M. M.; RIBEIRO, M. do C. de O. **Inteligência artificial no contexto da Ciência da Informação**. Portal de Revistas da ABECIN, 26 abr. 2024. Disponível em: [https://vertexaisearch.cloud.google.com/grounding-api-redirect/AbF9wXGH1criTd9toAv2ZGNb152u2H9wB4VINMfsNxzwp4ydTeFGouf7TCmC5vDXg37601-oYnj61gZ2HG1wXEWNsip1piqxjyy0mVk2IHhsnN54R7Aip5OHSb6NuourYuotunolYTRIqFvIKonxXsGCNF3BhUY=](https://vertexaisearch.cloud.google.com/grounding-api-redirect/AbF9wXGH1criTd9toAv2ZGNb152u2H9wB4VINMfsNxzwp4ydTeFGouf7TCmC5vDXg37601-oYnj61gZ2HG1wXEWNsip1piqxjyy0mVk2IHhsnN54R7Aip5OHSb6NuourYuotunolYTRIqFvIKonxXsGCNF3BhUY=). Acesso em: 18 maio 2025.\n\nEspero que estas referências formatadas sejam úteis!\n"
          },
          "metadata": {}
        },
        {
          "output_type": "stream",
          "name": "stdout",
          "text": [
            "--------------------------------------------------------------\n",
            "\n",
            "--- 📝 Exemplo de uso das citações) ---\n",
            "\n"
          ]
        },
        {
          "output_type": "display_data",
          "data": {
            "text/plain": [
              "<IPython.core.display.Markdown object>"
            ],
            "text/markdown": "Perfeito! Aqui estão 8 citações selecionadas, juntamente com exemplos de como integrá-las em um texto acadêmico sobre IA, seguindo suas instruções:\n\n**1. Personalização do Ensino com IA:**\n\n*   **Apresentação da Citação Científica:** \"A IA pode auxiliar na personalização do ensino, adaptando o conteúdo e o ritmo de aprendizagem às necessidades individuais de cada aluno\" (FREITAS; RÊGO; COSTA et al., 2025, p. ?).\n\n*   **Análise Conectiva Científica:** A capacidade de personalização do ensino, impulsionada pela IA, representa um avanço significativo na área da educação. Essa adaptação individualizada, conforme apontado por Freitas, Rêgo, Costa et al. (2025), alinha-se com as teorias de aprendizagem adaptativa, que enfatizam a importância de ajustar o conteúdo e o ritmo de instrução às características de cada estudante. Ao analisar dados de desempenho e preferências do aluno, a IA pode oferecer um percurso de aprendizagem otimizado, maximizando o engajamento e a retenção do conhecimento. Essa abordagem contrasta com os modelos tradicionais de ensino, que muitas vezes impõem um ritmo e conteúdo uniformes a todos os alunos, negligenciando suas necessidades individuais. A personalização, portanto, emerge como um dos pilares da transformação educacional impulsionada pela IA.\n\n**2. Suporte Imediato ao Aluno via Chatbots:**\n\n*   **Apresentação da Citação Científica:** \"A utilização de chatbots e assistentes virtuais com IA pode fornecer suporte imediato aos alunos, respondendo a perguntas e oferecendo feedback em tempo real\" (FREITAS; RÊGO; COSTA et al., 2025, p. ?).\n\n*   **Análise Conectiva Científica:** A implementação de chatbots e assistentes virtuais com IA no contexto educacional oferece um canal de suporte contínuo e imediato aos alunos. Essa disponibilidade 24 horas por dia, 7 dias por semana, conforme destacado por Freitas, Rêgo, Costa et al. (2025), representa uma vantagem significativa em relação aos modelos tradicionais de suporte ao aluno, que muitas vezes são limitados a horários específicos ou à disponibilidade dos professores. A capacidade de responder a perguntas e fornecer feedback em tempo real pode melhorar a experiência de aprendizado dos alunos, reduzir a frustração e promover a autonomia. Além disso, os chatbots podem liberar os professores para se concentrarem em atividades mais complexas e que exigem interação humana, otimizando o tempo e os recursos disponíveis.\n\n**3. IA na Detecção Precoce de Câncer de Pele:**\n\n*   **Apresentação da Citação Científica:** \"A IA tem se mostrado promissora na análise de imagens dermatoscópicas, auxiliando na detecção precoce de lesões suspeitas e reduzindo a necessidade de biópsias invasivas\" (SOARES; SOUSA, 2025, p. ?).\n\n*   **Análise Conectiva Científica:** A aplicação da IA na análise de imagens dermatoscópicas representa um avanço notável na detecção precoce do câncer de pele. A capacidade da IA de identificar lesões suspeitas com alta precisão, conforme apontado por Soares e Sousa (2025), pode levar a diagnósticos mais rápidos e tratamentos mais eficazes. A redução da necessidade de biópsias invasivas, além de diminuir o desconforto para o paciente, também pode reduzir os custos e o tempo de espera para o diagnóstico. Essa aplicação da IA está alinhada com a crescente tendência de utilizar tecnologias de aprendizado de máquina para melhorar a precisão e a eficiência dos diagnósticos médicos. A detecção precoce, facilitada pela IA, é um fator crucial para aumentar as chances de cura do câncer de pele.\n\n**4. Precisão da IA Comparável a Dermatologistas:**\n\n*   **Apresentação da Citação Científica:** \"Algoritmos de aprendizado profundo, como Redes Neurais Convolucionais (CNNs), têm alcançado níveis de precisão comparáveis aos de dermatologistas experientes na classificação de diferentes tipos de câncer de pele\" (SOARES; SOUSA, 2025, p. ?).\n\n*   **Análise Conectiva Científica:** Atingir níveis de precisão comparáveis aos de dermatologistas experientes na classificação de câncer de pele, por meio de algoritmos de aprendizado profundo como CNNs, demonstra o enorme potencial da IA na área da saúde.  Soares e Sousa (2025) destacam essa capacidade, que redefine o papel da tecnologia no auxílio ao diagnóstico médico.  As CNNs, em particular, são capazes de analisar padrões complexos em imagens, identificando características que podem ser sutis demais para o olho humano.  Este avanço não apenas acelera o processo de diagnóstico, mas também pode reduzir a variabilidade interobservador, garantindo uma avaliação mais consistente e objetiva. A IA, portanto, surge como uma ferramenta poderosa para complementar a expertise dos profissionais de saúde.\n\n**5. Democratização do Acesso à Saúde com IA:**\n\n*   **Apresentação da Citação Científica:** \"A utilização da IA no diagnóstico de câncer de pele pode contribuir para a democratização do acesso à saúde, especialmente em áreas remotas ou com poucos especialistas\" (SOARES; SOUSA, 2025, p. ?).\n\n*   **Análise Conectiva Científica:** A capacidade da IA de ampliar o acesso ao diagnóstico de câncer de pele, conforme mencionado por Soares e Sousa (2025), é um passo fundamental para a democratização da saúde. Em regiões remotas ou com escassez de dermatologistas, a IA pode fornecer uma avaliação inicial precisa e acessível, permitindo que mais pessoas recebam o diagnóstico e o tratamento precocemente. Essa aplicação da IA pode reduzir as desigualdades no acesso à saúde e melhorar os resultados para os pacientes. Ao tornar o diagnóstico mais acessível, a IA pode ajudar a salvar vidas e reduzir o impacto do câncer de pele na sociedade.\n\n**6. Monitoramento de Pacientes em Tempo Real:**\n\n*   **Apresentação da Citação Científica:** \"A IA pode ser utilizada para monitorar pacientes em tempo real, detectando sinais de alerta e prevenindo complicações\" (RAPOSO; ALVES JÚNIOR; SILVA et al., 2024, p. ?).\n\n*   **Análise Conectiva Científica:** O monitoramento contínuo de pacientes por meio de IA, conforme apontado por Raposo, Alves Júnior, Silva et al. (2024), representa uma mudança de paradigma na assistência à saúde. A capacidade de detectar sinais de alerta precocemente permite intervenções mais rápidas e eficazes, prevenindo complicações e melhorando os resultados para os pacientes. Essa aplicação da IA é particularmente útil em pacientes com doenças crônicas ou em pós-operatório, onde o monitoramento constante é crucial. Além disso, a IA pode analisar grandes volumes de dados para identificar padrões e tendências que podem passar despercebidos aos profissionais de saúde, permitindo uma abordagem mais proativa e personalizada no cuidado ao paciente.\n\n**7. IA e a Transformação da Informação:**\n\n*   **Apresentação da Citação Científica:** \"A IA tem o potencial de transformar a forma como a informação é organizada, armazenada, recuperada e utilizada\" (ALVES; RIBEIRO, 2024, p. ?).\n\n*   **Análise Conectiva Científica:** A afirmação de Alves e Ribeiro (2024) sobre o potencial transformador da IA na organização, armazenamento, recuperação e utilização da informação ressalta a importância da IA no contexto da Ciência da Informação. A IA pode automatizar tarefas de organização e classificação de documentos, melhorar a precisão e a relevância dos resultados de busca e personalizar a experiência do usuário na busca por informações. Essa transformação tem implicações profundas para a forma como as pessoas acessam e utilizam o conhecimento, impactando a pesquisa, a educação, o trabalho e a vida cotidiana. A IA, portanto, emerge como uma ferramenta fundamental para lidar com o crescente volume de informações disponíveis e garantir que as pessoas encontrem o que precisam de forma rápida e eficiente.\n\n**8. Sistemas de Recomendação com IA:**\n\n*   **Apresentação da Citação Científica:** \"Sistemas de recomendação com IA podem auxiliar os usuários a encontrar informações relevantes e personalizadas\" (ALVES; RIBEIRO, 2024, p. ?).\n\n*   **Análise Conectiva Científica:** A capacidade dos sistemas de recomendação com IA de fornecer informações relevantes e personalizadas aos usuários, conforme destacado por Alves e Ribeiro (2024), é um avanço significativo na forma como as pessoas encontram e consomem informações. Ao analisar o histórico de busca, as preferências e o comportamento do usuário, a IA pode oferecer recomendações que são mais relevantes e úteis do que os resultados de busca tradicionais. Essa personalização aumenta a eficiência da busca por informações, economiza tempo e melhora a experiência do usuário. Os sistemas de recomendação com IA são amplamente utilizados em diversas áreas, como e-commerce, streaming de vídeo e música, e redes sociais, demonstrando seu impacto na forma como as pessoas interagem com a informação.\n\nEspero que esses exemplos sejam úteis! Se precisar de mais alguma coisa, é só me avisar.\n"
          },
          "metadata": {}
        },
        {
          "output_type": "stream",
          "name": "stdout",
          "text": [
            "--------------------------------------------------------------\n",
            "\n",
            "--- 📝 Outros artigos relacionados à temática ---\n",
            "\n"
          ]
        },
        {
          "output_type": "display_data",
          "data": {
            "text/plain": [
              "<IPython.core.display.Markdown object>"
            ],
            "text/markdown": "Com base no tópico de Inteligência Artificial (IA) e nos exemplos de uso de citações fornecidos, sugiro os seguintes artigos científicos para complementar a pesquisa:\n\n**1. Título do Artigo Científico:** \"Explainable AI (XAI): Concepts, Taxonomies, Opportunities and Challenges toward Responsible AI\"\n   *   **Link (se disponível):** [https://www.mdpi.com/2076-3417/12/2/488](https://www.mdpi.com/2076-3417/12/2/488)\n   *   **Justificativa da Relevância Científica:** Este artigo aborda um aspecto crucial da IA, a interpretabilidade e explicabilidade. Dado que os exemplos de citações mencionam aplicações da IA em áreas sensíveis como saúde e educação, a necessidade de compreender como os algoritmos de IA chegam a suas conclusões torna-se fundamental. O artigo explora conceitos, taxonomias, oportunidades e desafios da IA Explicável (XAI), contribuindo para um desenvolvimento e uso mais responsável e ético da IA, o que complementa as discussões sobre personalização do ensino e detecção de câncer de pele, onde a transparência algorítmica é essencial.\n\n**2. Título do Artigo Científico:** \"Artificial Intelligence in Healthcare: Past, Present and Future\"\n   *   **Link (se disponível):** [https://www.ncbi.nlm.nih.gov/pmc/articles/PMC7588650/](https://www.ncbi.nlm.nih.gov/pmc/articles/PMC7588650/)\n   *   **Justificativa da Relevância Científica:** Este artigo oferece uma visão geral abrangente da aplicação da IA na área da saúde, desde o passado até as perspectivas futuras. Ele se conecta diretamente com as citações que mencionam a IA na detecção de câncer de pele e no monitoramento de pacientes. O artigo aprofunda a discussão sobre o potencial da IA para transformar o setor de saúde, abordando tanto os benefícios quanto os desafios éticos e práticos associados à sua implementação. Ao fornecer um contexto histórico e uma análise das tendências atuais, este artigo pode enriquecer a compreensão do impacto da IA na saúde.\n\n**3. Título do Artigo Científico:** \"A review of artificial intelligence in education\"\n   *   **Link (se disponível):** [https://www.tandfonline.com/doi/full/10.1080/09523987.2021.1916004](https://www.tandfonline.com/doi/full/10.1080/09523987.2021.1916004)\n   *   **Justificativa da Relevância Científica:** Considerando as citações sobre personalização do ensino e suporte ao aluno via chatbots, este artigo de revisão oferece uma análise aprofundada das aplicações da IA na educação. Ele examina o impacto da IA em diferentes aspectos do ensino e da aprendizagem, incluindo a personalização, a avaliação, o feedback e o suporte ao aluno. Ao apresentar uma visão geral das pesquisas existentes e identificar tendências emergentes, este artigo pode fornecer insights valiosos para pesquisadores e educadores interessados em explorar o potencial da IA para transformar a educação. Além disso, discute as limitações e desafios da IA na educação.\n"
          },
          "metadata": {}
        },
        {
          "output_type": "stream",
          "name": "stdout",
          "text": [
            "--------------------------------------------------------------\n",
            "\n",
            "--- 📝 Próximos passos de pesquisa ---\n",
            "\n"
          ]
        },
        {
          "output_type": "display_data",
          "data": {
            "text/plain": [
              "<IPython.core.display.Markdown object>"
            ],
            "text/markdown": "Com base nos títulos dos artigos fornecidos, podemos identificar alguns temas recorrentes e propor os seguintes passos para expandir sua pesquisa sobre Inteligência Artificial:\n\n1. **Expansão da Busca por Palavras-Chave e Conceitos:**\n\n*   **Descrição:** Explore termos relacionados e sinônimos para IA, além de conceitos adjacentes. Isso ajudará a descobrir novas áreas de pesquisa e refinar seu foco.\n*   **Sugestões:**\n    *   Utilize termos como \"Aprendizado de Máquina\", \"Redes Neurais\", \"Processamento de Linguagem Natural\", \"Visão Computacional\", \"Robótica\", \"Automação Inteligente\".\n    *   Experimente combinações como \"IA e Saúde\", \"IA e Educação\", \"IA e Finanças\", \"IA e Sustentabilidade\", \"Ética em IA\", \"Governança de IA\", \"Impacto Social da IA\".\n    *   Explore sub-tópicos como \"IA Explicável (XAI)\", \"Aprendizado por Reforço\", \"IA Generativa\", \"Transfer Learning\".\n\n2. **Diversificação das Fontes de Pesquisa e Repositórios:**\n\n*   **Descrição:** Além das bases de dados já utilizadas, explore outros repositórios acadêmicos e plataformas de indexação relevantes para garantir uma visão abrangente do tema.\n*   **Sugestões:**\n    *   **IEEE Xplore:** Focado em engenharia, ciência da computação e áreas relacionadas.\n    *   **ACM Digital Library:** Essencial para artigos de computação e IA.\n    *   **arXiv:** Repositório de preprints (artigos ainda não revisados por pares) de física, matemática, ciência da computação e áreas relacionadas.\n    *   **Google Scholar:** Permite buscar em diversas fontes, mas valide a qualidade das publicações encontradas.\n    *   **Repositórios de Universidades:** Muitas universidades mantêm repositórios digitais com teses, dissertações e artigos de seus pesquisadores.\n\n3. **Exploração de Metodologias e Abordagens Alternativas:**\n\n*   **Descrição:** Considere diferentes metodologias de pesquisa para abordar o tema da IA sob perspectivas variadas.\n*   **Sugestões:**\n    *   **Estudos de Caso:** Analise a aplicação da IA em setores específicos (saúde, educação, indústria) para entender seus impactos e desafios.\n    *   **Revisões Sistemáticas e Meta-Análises:** Sintetize os resultados de múltiplos estudos para identificar tendências e lacunas na pesquisa.\n    *   **Pesquisa Qualitativa:** Realize entrevistas com especialistas, usuários e desenvolvedores de IA para compreender suas percepções e experiências.\n    *   **Experimentos:** Desenvolva experimentos para testar o desempenho de algoritmos de IA em diferentes tarefas e contextos.\n    *   **Análise de Dados:** Utilize técnicas de mineração de dados e análise de redes para identificar padrões e relações em grandes conjuntos de dados relacionados à IA.\n\n4. **Investigação de Contextos e Variáveis Adicionais:**\n\n*   **Descrição:** Explore como a IA se manifesta e é influenciada por diferentes contextos e variáveis, aprofundando sua compreensão do tema.\n*   **Sugestões:**\n    *   **Contextos Geográficos:** Compare a adoção e o desenvolvimento da IA em diferentes países e regiões, considerando fatores como infraestrutura, políticas públicas e cultura.\n    *   **Populações Específicas:** Investigue como a IA afeta diferentes grupos demográficos (gênero, idade, nível socioeconômico, etnia), considerando questões de equidade e inclusão.\n    *   **Variáveis Socioeconômicas:** Analise a relação entre IA e indicadores como emprego, renda, desigualdade social e desenvolvimento econômico.\n    *   **Variáveis Ambientais:** Explore o uso da IA para resolver problemas ambientais, como mudanças climáticas, desmatamento e poluição.\n\n5. **Análise da Evolução Histórica e Tendências Futuras:**\n\n*   **Descrição:** Compreenda como a pesquisa em IA evoluiu ao longo do tempo e quais são as tendências emergentes que podem moldar o futuro do campo.\n*   **Sugestões:**\n    *   **Marcos Históricos:** Identifique os principais avanços e desafios na história da IA, desde seus primórdios até os dias atuais.\n    *   **Debates e Controvérsias:** Analise as discussões sobre questões éticas, sociais e filosóficas relacionadas à IA, como viés algorítmico, privacidade, segurança e autonomia.\n    *   **Tendências Emergentes:** Acompanhe os desenvolvimentos em áreas como IA Generativa, IA Explicável (XAI), IA Auto Supervisionada e IA Quântica.\n    *   **Previsões e Cenários Futuros:** Explore estudos prospectivos e relatórios de especialistas que projetam o impacto da IA em diferentes setores e na sociedade como um todo.\n\nLembre-se de que a pesquisa científica é um processo iterativo e dinâmico. Esteja aberto a ajustar seus objetivos e abordagens à medida que você aprende mais sobre o tema.\n"
          },
          "metadata": {}
        },
        {
          "output_type": "stream",
          "name": "stdout",
          "text": [
            "\n",
            "✨ Processo de análise de artigos concluído! ✨\n",
            "❓ Digite outro tópico para pesquisar (ou 'Tchau Lumina' para sair): Tchau Lumina\n",
            "\n",
            "👋 Tchau! Espero ter ajudado a iLUMINAr suas pesquisas!\n"
          ]
        }
      ]
    }
  ]
}